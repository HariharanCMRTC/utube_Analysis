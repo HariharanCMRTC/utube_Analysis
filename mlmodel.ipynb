{
 "cells": [
  {
   "cell_type": "code",
   "execution_count": 16,
   "metadata": {},
   "outputs": [],
   "source": [
    "import pandas as pd\n",
    "import numpy as np\n",
    "import matplotlib.pyplot as plt\n",
    "import seaborn as sns\n",
    "from sklearn.model_selection import train_test_split\n",
    "from sklearn.preprocessing import StandardScaler, MinMaxScaler, LabelEncoder\n",
    "from sklearn.linear_model import LinearRegression, LogisticRegression"
   ]
  },
  {
   "cell_type": "code",
   "execution_count": 17,
   "metadata": {},
   "outputs": [],
   "source": [
    "df = pd.read_csv(\"cleaneddata.csv\")"
   ]
  },
  {
   "cell_type": "code",
   "execution_count": 18,
   "metadata": {},
   "outputs": [
    {
     "data": {
      "text/html": [
       "<div>\n",
       "<style scoped>\n",
       "    .dataframe tbody tr th:only-of-type {\n",
       "        vertical-align: middle;\n",
       "    }\n",
       "\n",
       "    .dataframe tbody tr th {\n",
       "        vertical-align: top;\n",
       "    }\n",
       "\n",
       "    .dataframe thead th {\n",
       "        text-align: right;\n",
       "    }\n",
       "</style>\n",
       "<table border=\"1\" class=\"dataframe\">\n",
       "  <thead>\n",
       "    <tr style=\"text-align: right;\">\n",
       "      <th></th>\n",
       "      <th>Unnamed: 0</th>\n",
       "      <th>video_id</th>\n",
       "      <th>trending_date</th>\n",
       "      <th>title</th>\n",
       "      <th>channel_title</th>\n",
       "      <th>category_id</th>\n",
       "      <th>publish_time</th>\n",
       "      <th>views</th>\n",
       "      <th>likes</th>\n",
       "      <th>dislikes</th>\n",
       "      <th>comment_count</th>\n",
       "      <th>comments_disabled</th>\n",
       "      <th>ratings_disabled</th>\n",
       "      <th>video_error_or_removed</th>\n",
       "      <th>Genre</th>\n",
       "    </tr>\n",
       "  </thead>\n",
       "  <tbody>\n",
       "    <tr>\n",
       "      <th>0</th>\n",
       "      <td>0</td>\n",
       "      <td>2kyS6SvSYSE</td>\n",
       "      <td>2017-11-14</td>\n",
       "      <td>WE WANT TO TALK ABOUT OUR MARRIAGE</td>\n",
       "      <td>CaseyNeistat</td>\n",
       "      <td>22</td>\n",
       "      <td>2017-11-13 17:13:01+00:00</td>\n",
       "      <td>748374</td>\n",
       "      <td>57527</td>\n",
       "      <td>2966</td>\n",
       "      <td>15954</td>\n",
       "      <td>False</td>\n",
       "      <td>False</td>\n",
       "      <td>False</td>\n",
       "      <td>People &amp; Blogs</td>\n",
       "    </tr>\n",
       "    <tr>\n",
       "      <th>1</th>\n",
       "      <td>1</td>\n",
       "      <td>0mlNzVSJrT0</td>\n",
       "      <td>2017-11-14</td>\n",
       "      <td>Me-O Cats Commercial</td>\n",
       "      <td>Nobrand</td>\n",
       "      <td>22</td>\n",
       "      <td>2017-04-21 06:47:32+00:00</td>\n",
       "      <td>98966</td>\n",
       "      <td>2486</td>\n",
       "      <td>184</td>\n",
       "      <td>532</td>\n",
       "      <td>False</td>\n",
       "      <td>False</td>\n",
       "      <td>False</td>\n",
       "      <td>People &amp; Blogs</td>\n",
       "    </tr>\n",
       "    <tr>\n",
       "      <th>2</th>\n",
       "      <td>2</td>\n",
       "      <td>STI2fI7sKMo</td>\n",
       "      <td>2017-11-14</td>\n",
       "      <td>AFFAIRS, EX BOYFRIENDS, $18MILLION NET WORTH -...</td>\n",
       "      <td>Shawn Johnson East</td>\n",
       "      <td>22</td>\n",
       "      <td>2017-11-11 15:00:03+00:00</td>\n",
       "      <td>321053</td>\n",
       "      <td>4451</td>\n",
       "      <td>1772</td>\n",
       "      <td>895</td>\n",
       "      <td>False</td>\n",
       "      <td>False</td>\n",
       "      <td>False</td>\n",
       "      <td>People &amp; Blogs</td>\n",
       "    </tr>\n",
       "    <tr>\n",
       "      <th>3</th>\n",
       "      <td>3</td>\n",
       "      <td>KODzih-pYlU</td>\n",
       "      <td>2017-11-14</td>\n",
       "      <td>BLIND(folded) CAKE DECORATING CONTEST (with Mo...</td>\n",
       "      <td>Grace Helbig</td>\n",
       "      <td>22</td>\n",
       "      <td>2017-11-11 18:08:04+00:00</td>\n",
       "      <td>197062</td>\n",
       "      <td>7250</td>\n",
       "      <td>217</td>\n",
       "      <td>456</td>\n",
       "      <td>False</td>\n",
       "      <td>False</td>\n",
       "      <td>False</td>\n",
       "      <td>People &amp; Blogs</td>\n",
       "    </tr>\n",
       "    <tr>\n",
       "      <th>4</th>\n",
       "      <td>4</td>\n",
       "      <td>8mhTWqWlQzU</td>\n",
       "      <td>2017-11-14</td>\n",
       "      <td>Wearing Online Dollar Store Makeup For A Week</td>\n",
       "      <td>Safiya Nygaard</td>\n",
       "      <td>22</td>\n",
       "      <td>2017-11-11 01:19:33+00:00</td>\n",
       "      <td>2744430</td>\n",
       "      <td>115426</td>\n",
       "      <td>1110</td>\n",
       "      <td>6541</td>\n",
       "      <td>False</td>\n",
       "      <td>False</td>\n",
       "      <td>False</td>\n",
       "      <td>People &amp; Blogs</td>\n",
       "    </tr>\n",
       "    <tr>\n",
       "      <th>...</th>\n",
       "      <td>...</td>\n",
       "      <td>...</td>\n",
       "      <td>...</td>\n",
       "      <td>...</td>\n",
       "      <td>...</td>\n",
       "      <td>...</td>\n",
       "      <td>...</td>\n",
       "      <td>...</td>\n",
       "      <td>...</td>\n",
       "      <td>...</td>\n",
       "      <td>...</td>\n",
       "      <td>...</td>\n",
       "      <td>...</td>\n",
       "      <td>...</td>\n",
       "      <td>...</td>\n",
       "    </tr>\n",
       "    <tr>\n",
       "      <th>40944</th>\n",
       "      <td>40944</td>\n",
       "      <td>V6ElE2xs48c</td>\n",
       "      <td>2018-06-02</td>\n",
       "      <td>Game of Zones - S5:E5: The Isle of Van Gundy</td>\n",
       "      <td>Bleacher Report</td>\n",
       "      <td>43</td>\n",
       "      <td>2018-05-10 21:01:22+00:00</td>\n",
       "      <td>1324482</td>\n",
       "      <td>22413</td>\n",
       "      <td>608</td>\n",
       "      <td>1644</td>\n",
       "      <td>False</td>\n",
       "      <td>False</td>\n",
       "      <td>False</td>\n",
       "      <td>Shows</td>\n",
       "    </tr>\n",
       "    <tr>\n",
       "      <th>40945</th>\n",
       "      <td>40945</td>\n",
       "      <td>V6ElE2xs48c</td>\n",
       "      <td>2018-06-03</td>\n",
       "      <td>Game of Zones - S5:E5: The Isle of Van Gundy</td>\n",
       "      <td>Bleacher Report</td>\n",
       "      <td>43</td>\n",
       "      <td>2018-05-10 21:01:22+00:00</td>\n",
       "      <td>1332252</td>\n",
       "      <td>22461</td>\n",
       "      <td>610</td>\n",
       "      <td>1648</td>\n",
       "      <td>False</td>\n",
       "      <td>False</td>\n",
       "      <td>False</td>\n",
       "      <td>Shows</td>\n",
       "    </tr>\n",
       "    <tr>\n",
       "      <th>40946</th>\n",
       "      <td>40946</td>\n",
       "      <td>V6ElE2xs48c</td>\n",
       "      <td>2018-06-04</td>\n",
       "      <td>Game of Zones - S5:E5: The Isle of Van Gundy</td>\n",
       "      <td>Bleacher Report</td>\n",
       "      <td>43</td>\n",
       "      <td>2018-05-10 21:01:22+00:00</td>\n",
       "      <td>1340039</td>\n",
       "      <td>22504</td>\n",
       "      <td>615</td>\n",
       "      <td>1648</td>\n",
       "      <td>False</td>\n",
       "      <td>False</td>\n",
       "      <td>False</td>\n",
       "      <td>Shows</td>\n",
       "    </tr>\n",
       "    <tr>\n",
       "      <th>40947</th>\n",
       "      <td>40947</td>\n",
       "      <td>V6ElE2xs48c</td>\n",
       "      <td>2018-06-05</td>\n",
       "      <td>Game of Zones - S5:E5: The Isle of Van Gundy</td>\n",
       "      <td>Bleacher Report</td>\n",
       "      <td>43</td>\n",
       "      <td>2018-05-10 21:01:22+00:00</td>\n",
       "      <td>1345086</td>\n",
       "      <td>22542</td>\n",
       "      <td>615</td>\n",
       "      <td>1649</td>\n",
       "      <td>False</td>\n",
       "      <td>False</td>\n",
       "      <td>False</td>\n",
       "      <td>Shows</td>\n",
       "    </tr>\n",
       "    <tr>\n",
       "      <th>40948</th>\n",
       "      <td>40948</td>\n",
       "      <td>V6ElE2xs48c</td>\n",
       "      <td>2018-06-06</td>\n",
       "      <td>Game of Zones - S5:E5: The Isle of Van Gundy</td>\n",
       "      <td>Bleacher Report</td>\n",
       "      <td>43</td>\n",
       "      <td>2018-05-10 21:01:22+00:00</td>\n",
       "      <td>1351321</td>\n",
       "      <td>22587</td>\n",
       "      <td>616</td>\n",
       "      <td>1649</td>\n",
       "      <td>False</td>\n",
       "      <td>False</td>\n",
       "      <td>False</td>\n",
       "      <td>Shows</td>\n",
       "    </tr>\n",
       "  </tbody>\n",
       "</table>\n",
       "<p>40949 rows × 15 columns</p>\n",
       "</div>"
      ],
      "text/plain": [
       "       Unnamed: 0     video_id trending_date  \\\n",
       "0               0  2kyS6SvSYSE    2017-11-14   \n",
       "1               1  0mlNzVSJrT0    2017-11-14   \n",
       "2               2  STI2fI7sKMo    2017-11-14   \n",
       "3               3  KODzih-pYlU    2017-11-14   \n",
       "4               4  8mhTWqWlQzU    2017-11-14   \n",
       "...           ...          ...           ...   \n",
       "40944       40944  V6ElE2xs48c    2018-06-02   \n",
       "40945       40945  V6ElE2xs48c    2018-06-03   \n",
       "40946       40946  V6ElE2xs48c    2018-06-04   \n",
       "40947       40947  V6ElE2xs48c    2018-06-05   \n",
       "40948       40948  V6ElE2xs48c    2018-06-06   \n",
       "\n",
       "                                                   title       channel_title  \\\n",
       "0                     WE WANT TO TALK ABOUT OUR MARRIAGE        CaseyNeistat   \n",
       "1                                   Me-O Cats Commercial             Nobrand   \n",
       "2      AFFAIRS, EX BOYFRIENDS, $18MILLION NET WORTH -...  Shawn Johnson East   \n",
       "3      BLIND(folded) CAKE DECORATING CONTEST (with Mo...        Grace Helbig   \n",
       "4          Wearing Online Dollar Store Makeup For A Week      Safiya Nygaard   \n",
       "...                                                  ...                 ...   \n",
       "40944       Game of Zones - S5:E5: The Isle of Van Gundy     Bleacher Report   \n",
       "40945       Game of Zones - S5:E5: The Isle of Van Gundy     Bleacher Report   \n",
       "40946       Game of Zones - S5:E5: The Isle of Van Gundy     Bleacher Report   \n",
       "40947       Game of Zones - S5:E5: The Isle of Van Gundy     Bleacher Report   \n",
       "40948       Game of Zones - S5:E5: The Isle of Van Gundy     Bleacher Report   \n",
       "\n",
       "       category_id               publish_time    views   likes  dislikes  \\\n",
       "0               22  2017-11-13 17:13:01+00:00   748374   57527      2966   \n",
       "1               22  2017-04-21 06:47:32+00:00    98966    2486       184   \n",
       "2               22  2017-11-11 15:00:03+00:00   321053    4451      1772   \n",
       "3               22  2017-11-11 18:08:04+00:00   197062    7250       217   \n",
       "4               22  2017-11-11 01:19:33+00:00  2744430  115426      1110   \n",
       "...            ...                        ...      ...     ...       ...   \n",
       "40944           43  2018-05-10 21:01:22+00:00  1324482   22413       608   \n",
       "40945           43  2018-05-10 21:01:22+00:00  1332252   22461       610   \n",
       "40946           43  2018-05-10 21:01:22+00:00  1340039   22504       615   \n",
       "40947           43  2018-05-10 21:01:22+00:00  1345086   22542       615   \n",
       "40948           43  2018-05-10 21:01:22+00:00  1351321   22587       616   \n",
       "\n",
       "       comment_count  comments_disabled  ratings_disabled  \\\n",
       "0              15954              False             False   \n",
       "1                532              False             False   \n",
       "2                895              False             False   \n",
       "3                456              False             False   \n",
       "4               6541              False             False   \n",
       "...              ...                ...               ...   \n",
       "40944           1644              False             False   \n",
       "40945           1648              False             False   \n",
       "40946           1648              False             False   \n",
       "40947           1649              False             False   \n",
       "40948           1649              False             False   \n",
       "\n",
       "       video_error_or_removed           Genre  \n",
       "0                       False  People & Blogs  \n",
       "1                       False  People & Blogs  \n",
       "2                       False  People & Blogs  \n",
       "3                       False  People & Blogs  \n",
       "4                       False  People & Blogs  \n",
       "...                       ...             ...  \n",
       "40944                   False           Shows  \n",
       "40945                   False           Shows  \n",
       "40946                   False           Shows  \n",
       "40947                   False           Shows  \n",
       "40948                   False           Shows  \n",
       "\n",
       "[40949 rows x 15 columns]"
      ]
     },
     "execution_count": 18,
     "metadata": {},
     "output_type": "execute_result"
    }
   ],
   "source": [
    "df"
   ]
  },
  {
   "cell_type": "code",
   "execution_count": 19,
   "metadata": {},
   "outputs": [],
   "source": [
    "df.drop([\"Unnamed: 0\"],axis=1, inplace=True)\n",
    "df.drop([\"category_id\"],axis=1,inplace=True)"
   ]
  },
  {
   "cell_type": "code",
   "execution_count": 20,
   "metadata": {},
   "outputs": [
    {
     "data": {
      "text/plain": [
       "Index(['video_id', 'trending_date', 'title', 'channel_title', 'publish_time',\n",
       "       'views', 'likes', 'dislikes', 'comment_count', 'comments_disabled',\n",
       "       'ratings_disabled', 'video_error_or_removed', 'Genre'],\n",
       "      dtype='object')"
      ]
     },
     "execution_count": 20,
     "metadata": {},
     "output_type": "execute_result"
    }
   ],
   "source": [
    "df.columns"
   ]
  },
  {
   "cell_type": "code",
   "execution_count": 21,
   "metadata": {},
   "outputs": [
    {
     "name": "stdout",
     "output_type": "stream",
     "text": [
      "<class 'pandas.core.frame.DataFrame'>\n",
      "RangeIndex: 40949 entries, 0 to 40948\n",
      "Data columns (total 13 columns):\n",
      " #   Column                  Non-Null Count  Dtype \n",
      "---  ------                  --------------  ----- \n",
      " 0   video_id                40949 non-null  object\n",
      " 1   trending_date           40949 non-null  object\n",
      " 2   title                   40949 non-null  object\n",
      " 3   channel_title           40949 non-null  object\n",
      " 4   publish_time            40949 non-null  object\n",
      " 5   views                   40949 non-null  int64 \n",
      " 6   likes                   40949 non-null  int64 \n",
      " 7   dislikes                40949 non-null  int64 \n",
      " 8   comment_count           40949 non-null  int64 \n",
      " 9   comments_disabled       40949 non-null  bool  \n",
      " 10  ratings_disabled        40949 non-null  bool  \n",
      " 11  video_error_or_removed  40949 non-null  bool  \n",
      " 12  Genre                   40949 non-null  object\n",
      "dtypes: bool(3), int64(4), object(6)\n",
      "memory usage: 3.2+ MB\n"
     ]
    }
   ],
   "source": [
    "df.info()"
   ]
  },
  {
   "cell_type": "code",
   "execution_count": 22,
   "metadata": {},
   "outputs": [
    {
     "name": "stderr",
     "output_type": "stream",
     "text": [
      "C:\\Users\\nvgop\\AppData\\Local\\Temp\\ipykernel_26856\\3749607600.py:1: SettingWithCopyWarning: \n",
      "A value is trying to be set on a copy of a slice from a DataFrame.\n",
      "Try using .loc[row_indexer,col_indexer] = value instead\n",
      "\n",
      "See the caveats in the documentation: https://pandas.pydata.org/pandas-docs/stable/user_guide/indexing.html#returning-a-view-versus-a-copy\n",
      "  X[\"Genre\"] = LabelEncoder().fit_transform(df[\"Genre\"])\n"
     ]
    }
   ],
   "source": [
    "X[\"Genre\"] = LabelEncoder().fit_transform(df[\"Genre\"])"
   ]
  },
  {
   "cell_type": "code",
   "execution_count": 28,
   "metadata": {},
   "outputs": [],
   "source": [
    "X = df[[\"views\",\"dislikes\",\"comment_count\"]]\n",
    "y = df[\"likes\"]"
   ]
  },
  {
   "cell_type": "code",
   "execution_count": 29,
   "metadata": {},
   "outputs": [
    {
     "name": "stderr",
     "output_type": "stream",
     "text": [
      "C:\\Users\\nvgop\\AppData\\Local\\Temp\\ipykernel_26856\\3749607600.py:1: SettingWithCopyWarning: \n",
      "A value is trying to be set on a copy of a slice from a DataFrame.\n",
      "Try using .loc[row_indexer,col_indexer] = value instead\n",
      "\n",
      "See the caveats in the documentation: https://pandas.pydata.org/pandas-docs/stable/user_guide/indexing.html#returning-a-view-versus-a-copy\n",
      "  X[\"Genre\"] = LabelEncoder().fit_transform(df[\"Genre\"])\n"
     ]
    }
   ],
   "source": [
    "X[\"Genre\"] = LabelEncoder().fit_transform(df[\"Genre\"])"
   ]
  },
  {
   "cell_type": "code",
   "execution_count": 31,
   "metadata": {},
   "outputs": [
    {
     "data": {
      "text/html": [
       "<div>\n",
       "<style scoped>\n",
       "    .dataframe tbody tr th:only-of-type {\n",
       "        vertical-align: middle;\n",
       "    }\n",
       "\n",
       "    .dataframe tbody tr th {\n",
       "        vertical-align: top;\n",
       "    }\n",
       "\n",
       "    .dataframe thead th {\n",
       "        text-align: right;\n",
       "    }\n",
       "</style>\n",
       "<table border=\"1\" class=\"dataframe\">\n",
       "  <thead>\n",
       "    <tr style=\"text-align: right;\">\n",
       "      <th></th>\n",
       "      <th>views</th>\n",
       "      <th>dislikes</th>\n",
       "      <th>comment_count</th>\n",
       "      <th>Genre</th>\n",
       "    </tr>\n",
       "  </thead>\n",
       "  <tbody>\n",
       "    <tr>\n",
       "      <th>0</th>\n",
       "      <td>748374</td>\n",
       "      <td>2966</td>\n",
       "      <td>15954</td>\n",
       "      <td>10</td>\n",
       "    </tr>\n",
       "    <tr>\n",
       "      <th>1</th>\n",
       "      <td>98966</td>\n",
       "      <td>184</td>\n",
       "      <td>532</td>\n",
       "      <td>10</td>\n",
       "    </tr>\n",
       "    <tr>\n",
       "      <th>2</th>\n",
       "      <td>321053</td>\n",
       "      <td>1772</td>\n",
       "      <td>895</td>\n",
       "      <td>10</td>\n",
       "    </tr>\n",
       "    <tr>\n",
       "      <th>3</th>\n",
       "      <td>197062</td>\n",
       "      <td>217</td>\n",
       "      <td>456</td>\n",
       "      <td>10</td>\n",
       "    </tr>\n",
       "    <tr>\n",
       "      <th>4</th>\n",
       "      <td>2744430</td>\n",
       "      <td>1110</td>\n",
       "      <td>6541</td>\n",
       "      <td>10</td>\n",
       "    </tr>\n",
       "    <tr>\n",
       "      <th>...</th>\n",
       "      <td>...</td>\n",
       "      <td>...</td>\n",
       "      <td>...</td>\n",
       "      <td>...</td>\n",
       "    </tr>\n",
       "    <tr>\n",
       "      <th>40944</th>\n",
       "      <td>1324482</td>\n",
       "      <td>608</td>\n",
       "      <td>1644</td>\n",
       "      <td>13</td>\n",
       "    </tr>\n",
       "    <tr>\n",
       "      <th>40945</th>\n",
       "      <td>1332252</td>\n",
       "      <td>610</td>\n",
       "      <td>1648</td>\n",
       "      <td>13</td>\n",
       "    </tr>\n",
       "    <tr>\n",
       "      <th>40946</th>\n",
       "      <td>1340039</td>\n",
       "      <td>615</td>\n",
       "      <td>1648</td>\n",
       "      <td>13</td>\n",
       "    </tr>\n",
       "    <tr>\n",
       "      <th>40947</th>\n",
       "      <td>1345086</td>\n",
       "      <td>615</td>\n",
       "      <td>1649</td>\n",
       "      <td>13</td>\n",
       "    </tr>\n",
       "    <tr>\n",
       "      <th>40948</th>\n",
       "      <td>1351321</td>\n",
       "      <td>616</td>\n",
       "      <td>1649</td>\n",
       "      <td>13</td>\n",
       "    </tr>\n",
       "  </tbody>\n",
       "</table>\n",
       "<p>40949 rows × 4 columns</p>\n",
       "</div>"
      ],
      "text/plain": [
       "         views  dislikes  comment_count  Genre\n",
       "0       748374      2966          15954     10\n",
       "1        98966       184            532     10\n",
       "2       321053      1772            895     10\n",
       "3       197062       217            456     10\n",
       "4      2744430      1110           6541     10\n",
       "...        ...       ...            ...    ...\n",
       "40944  1324482       608           1644     13\n",
       "40945  1332252       610           1648     13\n",
       "40946  1340039       615           1648     13\n",
       "40947  1345086       615           1649     13\n",
       "40948  1351321       616           1649     13\n",
       "\n",
       "[40949 rows x 4 columns]"
      ]
     },
     "execution_count": 31,
     "metadata": {},
     "output_type": "execute_result"
    }
   ],
   "source": [
    "X"
   ]
  },
  {
   "cell_type": "code",
   "execution_count": 32,
   "metadata": {},
   "outputs": [],
   "source": [
    "X_train,X_test,y_train,y_test = train_test_split(X,y,test_size=0.2,random_state=42)"
   ]
  },
  {
   "cell_type": "code",
   "execution_count": 33,
   "metadata": {},
   "outputs": [
    {
     "data": {
      "text/html": [
       "<style>#sk-container-id-3 {color: black;background-color: white;}#sk-container-id-3 pre{padding: 0;}#sk-container-id-3 div.sk-toggleable {background-color: white;}#sk-container-id-3 label.sk-toggleable__label {cursor: pointer;display: block;width: 100%;margin-bottom: 0;padding: 0.3em;box-sizing: border-box;text-align: center;}#sk-container-id-3 label.sk-toggleable__label-arrow:before {content: \"▸\";float: left;margin-right: 0.25em;color: #696969;}#sk-container-id-3 label.sk-toggleable__label-arrow:hover:before {color: black;}#sk-container-id-3 div.sk-estimator:hover label.sk-toggleable__label-arrow:before {color: black;}#sk-container-id-3 div.sk-toggleable__content {max-height: 0;max-width: 0;overflow: hidden;text-align: left;background-color: #f0f8ff;}#sk-container-id-3 div.sk-toggleable__content pre {margin: 0.2em;color: black;border-radius: 0.25em;background-color: #f0f8ff;}#sk-container-id-3 input.sk-toggleable__control:checked~div.sk-toggleable__content {max-height: 200px;max-width: 100%;overflow: auto;}#sk-container-id-3 input.sk-toggleable__control:checked~label.sk-toggleable__label-arrow:before {content: \"▾\";}#sk-container-id-3 div.sk-estimator input.sk-toggleable__control:checked~label.sk-toggleable__label {background-color: #d4ebff;}#sk-container-id-3 div.sk-label input.sk-toggleable__control:checked~label.sk-toggleable__label {background-color: #d4ebff;}#sk-container-id-3 input.sk-hidden--visually {border: 0;clip: rect(1px 1px 1px 1px);clip: rect(1px, 1px, 1px, 1px);height: 1px;margin: -1px;overflow: hidden;padding: 0;position: absolute;width: 1px;}#sk-container-id-3 div.sk-estimator {font-family: monospace;background-color: #f0f8ff;border: 1px dotted black;border-radius: 0.25em;box-sizing: border-box;margin-bottom: 0.5em;}#sk-container-id-3 div.sk-estimator:hover {background-color: #d4ebff;}#sk-container-id-3 div.sk-parallel-item::after {content: \"\";width: 100%;border-bottom: 1px solid gray;flex-grow: 1;}#sk-container-id-3 div.sk-label:hover label.sk-toggleable__label {background-color: #d4ebff;}#sk-container-id-3 div.sk-serial::before {content: \"\";position: absolute;border-left: 1px solid gray;box-sizing: border-box;top: 0;bottom: 0;left: 50%;z-index: 0;}#sk-container-id-3 div.sk-serial {display: flex;flex-direction: column;align-items: center;background-color: white;padding-right: 0.2em;padding-left: 0.2em;position: relative;}#sk-container-id-3 div.sk-item {position: relative;z-index: 1;}#sk-container-id-3 div.sk-parallel {display: flex;align-items: stretch;justify-content: center;background-color: white;position: relative;}#sk-container-id-3 div.sk-item::before, #sk-container-id-3 div.sk-parallel-item::before {content: \"\";position: absolute;border-left: 1px solid gray;box-sizing: border-box;top: 0;bottom: 0;left: 50%;z-index: -1;}#sk-container-id-3 div.sk-parallel-item {display: flex;flex-direction: column;z-index: 1;position: relative;background-color: white;}#sk-container-id-3 div.sk-parallel-item:first-child::after {align-self: flex-end;width: 50%;}#sk-container-id-3 div.sk-parallel-item:last-child::after {align-self: flex-start;width: 50%;}#sk-container-id-3 div.sk-parallel-item:only-child::after {width: 0;}#sk-container-id-3 div.sk-dashed-wrapped {border: 1px dashed gray;margin: 0 0.4em 0.5em 0.4em;box-sizing: border-box;padding-bottom: 0.4em;background-color: white;}#sk-container-id-3 div.sk-label label {font-family: monospace;font-weight: bold;display: inline-block;line-height: 1.2em;}#sk-container-id-3 div.sk-label-container {text-align: center;}#sk-container-id-3 div.sk-container {/* jupyter's `normalize.less` sets `[hidden] { display: none; }` but bootstrap.min.css set `[hidden] { display: none !important; }` so we also need the `!important` here to be able to override the default hidden behavior on the sphinx rendered scikit-learn.org. See: https://github.com/scikit-learn/scikit-learn/issues/21755 */display: inline-block !important;position: relative;}#sk-container-id-3 div.sk-text-repr-fallback {display: none;}</style><div id=\"sk-container-id-3\" class=\"sk-top-container\"><div class=\"sk-text-repr-fallback\"><pre>LinearRegression()</pre><b>In a Jupyter environment, please rerun this cell to show the HTML representation or trust the notebook. <br />On GitHub, the HTML representation is unable to render, please try loading this page with nbviewer.org.</b></div><div class=\"sk-container\" hidden><div class=\"sk-item\"><div class=\"sk-estimator sk-toggleable\"><input class=\"sk-toggleable__control sk-hidden--visually\" id=\"sk-estimator-id-3\" type=\"checkbox\" checked><label for=\"sk-estimator-id-3\" class=\"sk-toggleable__label sk-toggleable__label-arrow\">LinearRegression</label><div class=\"sk-toggleable__content\"><pre>LinearRegression()</pre></div></div></div></div></div>"
      ],
      "text/plain": [
       "LinearRegression()"
      ]
     },
     "execution_count": 33,
     "metadata": {},
     "output_type": "execute_result"
    }
   ],
   "source": [
    "linear = LinearRegression()\n",
    "linear.fit(X_train,y_train)"
   ]
  },
  {
   "cell_type": "code",
   "execution_count": 34,
   "metadata": {},
   "outputs": [
    {
     "data": {
      "text/plain": [
       "0.8883282601892244"
      ]
     },
     "execution_count": 34,
     "metadata": {},
     "output_type": "execute_result"
    }
   ],
   "source": [
    "linear.score(X_test,y_test)"
   ]
  },
  {
   "cell_type": "code",
   "execution_count": 35,
   "metadata": {},
   "outputs": [
    {
     "data": {
      "text/plain": [
       "0.981886840304655"
      ]
     },
     "execution_count": 35,
     "metadata": {},
     "output_type": "execute_result"
    }
   ],
   "source": [
    "from sklearn.ensemble import RandomForestRegressor\n",
    "lr = RandomForestRegressor()\n",
    "lr.fit(X_train,y_train)\n",
    "lr.score(X_test,y_test)"
   ]
  },
  {
   "cell_type": "code",
   "execution_count": 43,
   "metadata": {},
   "outputs": [],
   "source": [
    "import pickle\n",
    "with open(\"Model.pickle\",\"wb\") as model_file:\n",
    "    pickle.dump(linear,model_file)\n"
   ]
  },
  {
   "cell_type": "code",
   "execution_count": 44,
   "metadata": {},
   "outputs": [],
   "source": [
    "with open(\"Model.pickle\",\"rb\") as mod:\n",
    "    model = pickle.load(mod)"
   ]
  },
  {
   "cell_type": "code",
   "execution_count": 47,
   "metadata": {},
   "outputs": [
    {
     "name": "stderr",
     "output_type": "stream",
     "text": [
      "c:\\Users\\nvgop\\anaconda3\\Lib\\site-packages\\sklearn\\base.py:439: UserWarning: X does not have valid feature names, but LinearRegression was fitted with feature names\n",
      "  warnings.warn(\n"
     ]
    },
    {
     "data": {
      "text/plain": [
       "array([16398.54894683])"
      ]
     },
     "execution_count": 47,
     "metadata": {},
     "output_type": "execute_result"
    }
   ],
   "source": [
    "model.predict([[998668,4763,345,4]])"
   ]
  },
  {
   "cell_type": "code",
   "execution_count": 49,
   "metadata": {},
   "outputs": [
    {
     "name": "stdout",
     "output_type": "stream",
     "text": [
      "{'Autos & Vehicles': 0, 'Comedy': 1, 'Education': 2, 'Entertainment': 3, 'Film & Animation': 4, 'Gaming': 5, 'Howto & Style': 6, 'Music': 7, 'News & Politics': 8, 'Nonprofits & Activism': 9, 'People & Blogs': 10, 'Pets & Animals': 11, 'Science & Technology': 12, 'Shows': 13, 'Sports': 14, 'Travel & Events': 15}\n"
     ]
    }
   ],
   "source": [
    "from sklearn.preprocessing import LabelEncoder\n",
    "le = LabelEncoder()\n",
    "le.fit(df['Genre'])\n",
    "genre_dict = {Genre: label for Genre, label in zip(le.classes_, range(len(le.classes_)))}\n",
    "print(genre_dict)"
   ]
  },
  {
   "cell_type": "code",
   "execution_count": null,
   "metadata": {},
   "outputs": [],
   "source": []
  }
 ],
 "metadata": {
  "kernelspec": {
   "display_name": "base",
   "language": "python",
   "name": "python3"
  },
  "language_info": {
   "codemirror_mode": {
    "name": "ipython",
    "version": 3
   },
   "file_extension": ".py",
   "mimetype": "text/x-python",
   "name": "python",
   "nbconvert_exporter": "python",
   "pygments_lexer": "ipython3",
   "version": "3.11.7"
  }
 },
 "nbformat": 4,
 "nbformat_minor": 2
}
